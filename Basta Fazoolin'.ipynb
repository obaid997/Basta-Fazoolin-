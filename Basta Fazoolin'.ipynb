{
 "cells": [
  {
   "cell_type": "code",
   "execution_count": 1,
   "id": "212d886d",
   "metadata": {},
   "outputs": [
    {
     "name": "stdout",
     "output_type": "stream",
     "text": [
      "13.5\n",
      "21.5\n",
      "[The menu is brunch and it will be available from 11 to 16]\n"
     ]
    }
   ],
   "source": [
    "class Menu:\n",
    "  def __init__(self, name, items, start_time, end_time):\n",
    "    self.name = name\n",
    "    self.items = items\n",
    "    self.start_time = start_time\n",
    "    self.end_time = end_time\n",
    "  def __repr__(self):\n",
    "    return 'The menu is ' + str(self.name)  + ' and it will be available from ' + str(self.start_time) + ' to '+ str(self.end_time)\n",
    "  def calculate_bill(self, purchased_items):\n",
    "    total_price = 0\n",
    "    for item in purchased_items:\n",
    "      if item in self.items:\n",
    "        total_price += self.items[item]\n",
    "    return total_price\n",
    "\n",
    "class Franchise:\n",
    "  def __init__(self, address, menus):\n",
    "    self.address = address\n",
    "    self.menus = menus\n",
    "  def __repr__(self):\n",
    "    return 'The address of the franchise is ' + str(self.address)\n",
    "  def available_menus(self, time):\n",
    "    self.time = time \n",
    "    #self.menu = [brunch, early_bird, dinner, kids]\n",
    "    available_dishes = []\n",
    "    for item in self.menus:\n",
    "      if self.time >= item.start_time and self.time <= item.end_time:\n",
    "        available_dishes.append(item)\n",
    "        return available_dishes \n",
    "\n",
    "class Business:\n",
    "  def __init__(self, name, franchises):\n",
    "    self.name = name\n",
    "    self.franchises = franchises\n",
    "\n",
    "brunch = Menu('brunch', {\n",
    "  'pancakes': 7.50, 'waffles': 9.00, 'burger': 11.00, 'home fries': 4.50, 'coffee': 1.50, 'espresso': 3.00, 'tea': 1.00, 'mimosa': 10.50, 'orange juice': 3.50}, 11, 16)    \n",
    "early_bird = Menu(\n",
    "  'early_bird', { 'salumeria plate': 8.00, 'salad and breadsticks (serves 2, no refills)': 14.00, 'pizza with quattro formaggi': 9.00, 'duck ragu': 17.50, 'mushroom ravioli (vegan)': 13.50, 'coffee': 1.50, 'espresso': 3.00}, 15, 18)\n",
    "dinner = Menu('dinner', {\n",
    "  'crostini with eggplant caponata': 13.00, 'caesar salad': 16.00, 'pizza with quattro formaggi': 11.00, 'duck ragu': 19.50, 'mushroom ravioli (vegan)': 13.50, 'coffee': 2.00, 'espresso': 3.00}, 17, 23)\n",
    "kids = Menu('kids',{\n",
    "  'chicken nuggets': 6.50, 'fusilli with wild mushrooms': 12.00, 'apple juice': 3.00}, 11, 21)\n",
    "arepas_menu = Menu(\"arepas\", { 'arepa pabellon': 7.00, 'pernil arepa': 8.50, 'guayanes arepa': 8.00, 'jamon arepa': 7.50},10, 20 )\n",
    "\n",
    "flagship_store = Franchise(\"1232 West End Road\", [brunch, early_bird, dinner, kids])\n",
    "new_installment = Franchise(\"12 East Mulberry Street\", [brunch, early_bird, dinner, kids])\n",
    "arepas_place = Franchise(\"189 Fitzgerald Avenue\", [arepas_menu])\n",
    "\n",
    "basta_fazoolin = Business(\"Basta Fazoolin' with my Heart\", [flagship_store, new_installment])\n",
    "take_arepa = Business(\"Take a' Arepa\", [arepas_place])\n",
    "\n",
    "print(brunch.calculate_bill(['pancakes','home fries', 'coffee']))\n",
    "print(early_bird.calculate_bill(['salumeria plate', 'mushroom ravioli (vegan)']))\n",
    "print(flagship_store.available_menus(11))"
   ]
  },
  {
   "cell_type": "code",
   "execution_count": null,
   "id": "96f6e3ff",
   "metadata": {},
   "outputs": [],
   "source": []
  }
 ],
 "metadata": {
  "kernelspec": {
   "display_name": "Python 3 (ipykernel)",
   "language": "python",
   "name": "python3"
  },
  "language_info": {
   "codemirror_mode": {
    "name": "ipython",
    "version": 3
   },
   "file_extension": ".py",
   "mimetype": "text/x-python",
   "name": "python",
   "nbconvert_exporter": "python",
   "pygments_lexer": "ipython3",
   "version": "3.9.12"
  }
 },
 "nbformat": 4,
 "nbformat_minor": 5
}
